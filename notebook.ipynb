{
 "metadata": {
  "language_info": {
   "codemirror_mode": {
    "name": "ipython",
    "version": 3
   },
   "file_extension": ".py",
   "mimetype": "text/x-python",
   "name": "python",
   "nbconvert_exporter": "python",
   "pygments_lexer": "ipython3",
   "version": "3.7.3-final"
  },
  "orig_nbformat": 2,
  "kernelspec": {
   "name": "Python 3.7.3 64-bit",
   "display_name": "Python 3.7.3 64-bit",
   "metadata": {
    "interpreter": {
     "hash": "31f2aee4e71d21fbe5cf8b01ff0e069b9275f58929596ceb00d14d90e3e16cd6"
    }
   }
  }
 },
 "nbformat": 4,
 "nbformat_minor": 2,
 "cells": [
  {
   "cell_type": "code",
   "execution_count": 3,
   "metadata": {},
   "outputs": [],
   "source": [
    "import pandas as pd"
   ]
  },
  {
   "cell_type": "code",
   "execution_count": 21,
   "metadata": {},
   "outputs": [],
   "source": [
    "df = pd.read_csv(\"./data/csv/submissions.csv\")"
   ]
  },
  {
   "cell_type": "code",
   "execution_count": 22,
   "metadata": {},
   "outputs": [
    {
     "output_type": "execute_result",
     "data": {
      "text/plain": [
       "   Unnamed: 0        id  contestId  creationTimeSeconds  relativeTimeSeconds  \\\n",
       "0           0  94790478     1423.0           1601913893                10793   \n",
       "1           1  94789081     1423.0           1601913263                10163   \n",
       "2           2  94788192     1423.0           1601912779                 9679   \n",
       "3           3  94787983     1423.0           1601912657                 9557   \n",
       "4           4  94787799     1423.0           1601912558                 9458   \n",
       "\n",
       "  programmingLanguage        verdict testset  passedTestCount  \\\n",
       "0           GNU C++17   WRONG_ANSWER   TESTS                2   \n",
       "1           GNU C++17             OK   TESTS               18   \n",
       "2           GNU C++17   WRONG_ANSWER   TESTS                4   \n",
       "3           GNU C++17  RUNTIME_ERROR   TESTS                4   \n",
       "4           GNU C++17   WRONG_ANSWER   TESTS                4   \n",
       "\n",
       "   timeConsumedMillis  memoryConsumedBytes index               name  \\\n",
       "0                 218               512000     E  5G Antenna Towers   \n",
       "1                  62              3584000     C    Dušan's Railway   \n",
       "2                  46              3481600     C    Dušan's Railway   \n",
       "3                  31              3481600     C    Dušan's Railway   \n",
       "4                  46              3481600     C    Dušan's Railway   \n",
       "\n",
       "          type  rating                 tags  points problemsetName  \n",
       "0  PROGRAMMING  2700.0         ['geometry']     NaN            NaN  \n",
       "1  PROGRAMMING  3500.0  ['graphs', 'trees']     NaN            NaN  \n",
       "2  PROGRAMMING  3500.0  ['graphs', 'trees']     NaN            NaN  \n",
       "3  PROGRAMMING  3500.0  ['graphs', 'trees']     NaN            NaN  \n",
       "4  PROGRAMMING  3500.0  ['graphs', 'trees']     NaN            NaN  "
      ],
      "text/html": "<div>\n<style scoped>\n    .dataframe tbody tr th:only-of-type {\n        vertical-align: middle;\n    }\n\n    .dataframe tbody tr th {\n        vertical-align: top;\n    }\n\n    .dataframe thead th {\n        text-align: right;\n    }\n</style>\n<table border=\"1\" class=\"dataframe\">\n  <thead>\n    <tr style=\"text-align: right;\">\n      <th></th>\n      <th>Unnamed: 0</th>\n      <th>id</th>\n      <th>contestId</th>\n      <th>creationTimeSeconds</th>\n      <th>relativeTimeSeconds</th>\n      <th>programmingLanguage</th>\n      <th>verdict</th>\n      <th>testset</th>\n      <th>passedTestCount</th>\n      <th>timeConsumedMillis</th>\n      <th>memoryConsumedBytes</th>\n      <th>index</th>\n      <th>name</th>\n      <th>type</th>\n      <th>rating</th>\n      <th>tags</th>\n      <th>points</th>\n      <th>problemsetName</th>\n    </tr>\n  </thead>\n  <tbody>\n    <tr>\n      <th>0</th>\n      <td>0</td>\n      <td>94790478</td>\n      <td>1423.0</td>\n      <td>1601913893</td>\n      <td>10793</td>\n      <td>GNU C++17</td>\n      <td>WRONG_ANSWER</td>\n      <td>TESTS</td>\n      <td>2</td>\n      <td>218</td>\n      <td>512000</td>\n      <td>E</td>\n      <td>5G Antenna Towers</td>\n      <td>PROGRAMMING</td>\n      <td>2700.0</td>\n      <td>['geometry']</td>\n      <td>NaN</td>\n      <td>NaN</td>\n    </tr>\n    <tr>\n      <th>1</th>\n      <td>1</td>\n      <td>94789081</td>\n      <td>1423.0</td>\n      <td>1601913263</td>\n      <td>10163</td>\n      <td>GNU C++17</td>\n      <td>OK</td>\n      <td>TESTS</td>\n      <td>18</td>\n      <td>62</td>\n      <td>3584000</td>\n      <td>C</td>\n      <td>Dušan's Railway</td>\n      <td>PROGRAMMING</td>\n      <td>3500.0</td>\n      <td>['graphs', 'trees']</td>\n      <td>NaN</td>\n      <td>NaN</td>\n    </tr>\n    <tr>\n      <th>2</th>\n      <td>2</td>\n      <td>94788192</td>\n      <td>1423.0</td>\n      <td>1601912779</td>\n      <td>9679</td>\n      <td>GNU C++17</td>\n      <td>WRONG_ANSWER</td>\n      <td>TESTS</td>\n      <td>4</td>\n      <td>46</td>\n      <td>3481600</td>\n      <td>C</td>\n      <td>Dušan's Railway</td>\n      <td>PROGRAMMING</td>\n      <td>3500.0</td>\n      <td>['graphs', 'trees']</td>\n      <td>NaN</td>\n      <td>NaN</td>\n    </tr>\n    <tr>\n      <th>3</th>\n      <td>3</td>\n      <td>94787983</td>\n      <td>1423.0</td>\n      <td>1601912657</td>\n      <td>9557</td>\n      <td>GNU C++17</td>\n      <td>RUNTIME_ERROR</td>\n      <td>TESTS</td>\n      <td>4</td>\n      <td>31</td>\n      <td>3481600</td>\n      <td>C</td>\n      <td>Dušan's Railway</td>\n      <td>PROGRAMMING</td>\n      <td>3500.0</td>\n      <td>['graphs', 'trees']</td>\n      <td>NaN</td>\n      <td>NaN</td>\n    </tr>\n    <tr>\n      <th>4</th>\n      <td>4</td>\n      <td>94787799</td>\n      <td>1423.0</td>\n      <td>1601912558</td>\n      <td>9458</td>\n      <td>GNU C++17</td>\n      <td>WRONG_ANSWER</td>\n      <td>TESTS</td>\n      <td>4</td>\n      <td>46</td>\n      <td>3481600</td>\n      <td>C</td>\n      <td>Dušan's Railway</td>\n      <td>PROGRAMMING</td>\n      <td>3500.0</td>\n      <td>['graphs', 'trees']</td>\n      <td>NaN</td>\n      <td>NaN</td>\n    </tr>\n  </tbody>\n</table>\n</div>"
     },
     "metadata": {},
     "execution_count": 22
    }
   ],
   "source": [
    "df.head()"
   ]
  },
  {
   "cell_type": "code",
   "execution_count": null,
   "metadata": {},
   "outputs": [],
   "source": []
  }
 ]
}